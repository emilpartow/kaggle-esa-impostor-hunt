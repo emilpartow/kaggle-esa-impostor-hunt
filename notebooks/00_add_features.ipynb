{
 "cells": [
  {
   "cell_type": "code",
   "execution_count": null,
   "id": "a863b3fb",
   "metadata": {},
   "outputs": [],
   "source": [
    "# Import necessary libraries for the notebook\n",
    "import pandas as pd\n",
    "import subprocess\n",
    "import os"
   ]
  },
  {
   "cell_type": "code",
   "execution_count": null,
   "id": "9ee5004b",
   "metadata": {},
   "outputs": [],
   "source": [
    "# Define paths to train and test sets\n",
    "root = os.path.dirname(os.getcwd())\n",
    "\n",
    "train_path = os.path.join(root,\"data\",\"train.csv\")\n",
    "test_path = os.path.join(root,\"data\",\"test.csv\")"
   ]
  },
  {
   "cell_type": "code",
   "execution_count": null,
   "id": "00a9c5b0",
   "metadata": {},
   "outputs": [],
   "source": [
    "def needs_pairbuilding(path):\n",
    "    \"\"\"\n",
    "    Returns True if the file does not exist or is missing the required\n",
    "    'text_A' and 'text_B' columns.\n",
    "    \"\"\"\n",
    "    if not os.path.exists(path):\n",
    "        return True\n",
    "    df = pd.read_csv(path, nrows=2)\n",
    "    return not ({\"text_A\", \"text_B\"} <= set(df.columns))\n",
    "\n",
    "\n",
    "print(needs_pairbuilding(train_path), needs_pairbuilding(test_path))\n",
    "\n",
    "# Check train AND test:\n",
    "if needs_pairbuilding(train_path) or needs_pairbuilding(test_path):\n",
    "    print(\"1. Preprocessing & Pairbuilding ...\")\n",
    "    subprocess.run([\"python\", os.path.join(root,\"src\",\"dataset.py\")], check=True)\n",
    "else:\n",
    "    print(\"Preprocessing & Pairbuilding not required, files are up to date.\")"
   ]
  },
  {
   "cell_type": "code",
   "execution_count": null,
   "id": "e73bd4bb",
   "metadata": {},
   "outputs": [],
   "source": [
    "# Run Basic Feature Engineering\n",
    "print(\"\\n2. Basic Feature Engineering ...\")\n",
    "result = subprocess.run(\n",
    "    [\"python\", \"../src/basic_feature_engineering.py\"],\n",
    "    capture_output=True,\n",
    "    text=True\n",
    ")\n",
    "print(result.stdout)\n",
    "print(result.stderr)\n"
   ]
  },
  {
   "cell_type": "code",
   "execution_count": null,
   "id": "1bdc587f",
   "metadata": {},
   "outputs": [],
   "source": [
    "# Run Grok Predictions\n",
    "print(\"\\n3. Grok LLM Feature Engineering ...\")\n",
    "%run -i ../src/grok.py"
   ]
  }
 ],
 "metadata": {
  "kernelspec": {
   "display_name": "Kaggle Impostor Hunt",
   "language": "python",
   "name": "python3"
  },
  "language_info": {
   "codemirror_mode": {
    "name": "ipython",
    "version": 3
   },
   "file_extension": ".py",
   "mimetype": "text/x-python",
   "name": "python",
   "nbconvert_exporter": "python",
   "pygments_lexer": "ipython3",
   "version": "3.11.9"
  }
 },
 "nbformat": 4,
 "nbformat_minor": 5
}
